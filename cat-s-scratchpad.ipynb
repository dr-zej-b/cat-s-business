{
 "cells": [
  {
   "cell_type": "code",
   "execution_count": null,
   "id": "15218142-b8f5-457c-92da-ee088bf5005f",
   "metadata": {
    "tags": []
   },
   "outputs": [],
   "source": [
    "import pandas as pd\n",
    "import numpy as np\n",
    "import plotly.express as ex\n",
    "import re"
   ]
  },
  {
   "cell_type": "code",
   "execution_count": null,
   "id": "0e6a2298-452f-4ba4-8a0d-0571d521fa4f",
   "metadata": {
    "tags": []
   },
   "outputs": [],
   "source": [
    "def get_cal_value(fn, show_plot=True, units='lb'):\n",
    "    d = pd.read_csv(fn,names=['adc'])\n",
    "    get_mass = re.compile('_(\\d+\\.*\\d+)_lb')\n",
    "    mass = float(get_mass.findall(fn)[0])\n",
    "\n",
    "    dy    = np.diff(d.adc)\n",
    "    y_min = min(d.adc) * 1.2\n",
    "    y_max = max(d.adc) * 1.2\n",
    "\n",
    "    # print(f\"[{y_min}, {y_max}]\")\n",
    "    ix = [np.argmin(dy)+2, np.argmax(dy)-2]\n",
    "    ym = [min(d.adc), min(d.adc)]\n",
    "    \n",
    "    ii = (d.index > ix[0]) & (d.index < ix[1])\n",
    "    low = np.mean(d.adc[ii]) \n",
    "    \n",
    "    ix = [np.argmin(dy)-2, np.argmax(dy)+2]\n",
    "    ii = (d.index > ix[0]) & (d.index < ix[1])\n",
    "    bck = np.mean(d.adc[~ii]) \n",
    "    if show_plot:\n",
    "        fig = ex.line(x=d.index, y=d.adc,  height=600)\n",
    "        # fig.add_scatter(x=[ix[0], ix[0]], y=[y_min, y_max])\n",
    "        # fig.add_scatter(x=[ix[1], ix[1]], y=[y_min, y_max])\n",
    "\n",
    "        fig.add_scatter(x=[d.index.start, d.index.stop], y=[low, low])    \n",
    "        fig.add_scatter(x=[d.index.start, d.index.stop], y=[bck, bck])\n",
    "        fig.show()\n",
    "\n",
    "    if units == 'lb':\n",
    "        mass_kg = (mass*0.453)\n",
    "    else:\n",
    "        mass_kg = (mass/1000)\n",
    "\n",
    "    last_cal = round((y_max - y_min)/mass_kg)    \n",
    "    print(f\"Mass {mass_kg:.3f} kg = {last_cal} LSB\")\n",
    "    return [mass_kg, (y_max - y_min), y_min, last_cal]"
   ]
  },
  {
   "cell_type": "code",
   "execution_count": null,
   "id": "2eba6869-150f-44f0-82dd-6e56e2acc10e",
   "metadata": {
    "tags": []
   },
   "outputs": [],
   "source": [
    "import glob as g\n",
    "CAL_LSB_PER_KG = 25530.5\n",
    "\n",
    "files = g.glob(f'cal/cal_*_lb.csv')\n",
    "full_cal = []\n",
    "for fn in files:\n",
    "    full_cal.append(get_cal_value(fn, show_plot=False, units='lb'))"
   ]
  },
  {
   "cell_type": "code",
   "execution_count": null,
   "id": "67f6b843-902c-4e78-8e02-8dcc75ef03c2",
   "metadata": {
    "tags": []
   },
   "outputs": [],
   "source": [
    "shp = np.shape(full_cal)\n",
    "x = []\n",
    "y = []\n",
    "for r in full_cal:\n",
    "    x.append(abs(r[2]))\n",
    "    y.append(r[0])"
   ]
  },
  {
   "cell_type": "code",
   "execution_count": null,
   "id": "0a499a33-140e-41d8-adc0-296cda2f5f52",
   "metadata": {
    "tags": []
   },
   "outputs": [],
   "source": [
    "import copy \n",
    "fit = np.polyfit(x,y,1)\n",
    "x_fit = copy.copy(x)\n",
    "y_fit = np.polyval(fit, x_fit)\n",
    "fig = ex.line(x=x_fit, y=np.polyval(fit,x_fit),  height=600)\n",
    "fig.add_scatter(x=x, y=y);\n",
    "fig.show()"
   ]
  },
  {
   "cell_type": "code",
   "execution_count": null,
   "id": "550f8c57-6682-46cb-9b64-c5544266ac8c",
   "metadata": {
    "tags": []
   },
   "outputs": [],
   "source": [
    "fit = np.array([ 3.86573970e-05, -1.55586835e+01])\n",
    "d = pd.read_csv('catdata_03-17.csv',names=['timestamp','adc','temp'])\n",
    "t = d.timestamp\n",
    "t = (t - t[0]) / 3600\n",
    "y = np.polyval(fit, abs(d.adc))\n",
    "\n",
    "d['weight'] = y\n",
    "d['t'] = t\n",
    "fig = ex.line(x=t, y=y, labels=dict(x=\"Time [h]\", y=\"Mass [kg]\"))\n",
    "fig.show()"
   ]
  },
  {
   "cell_type": "code",
   "execution_count": null,
   "id": "a9503dff-8263-4cab-b3d8-917eb987ee46",
   "metadata": {
    "tags": []
   },
   "outputs": [],
   "source": [
    "y = y - min(y)\n",
    "fig = ex.line(x=t[0:-1], y=abs(np.diff(y)))\n",
    "fig.show()"
   ]
  },
  {
   "cell_type": "code",
   "execution_count": null,
   "id": "a38f63c7-3862-419b-ac5d-19a3c2b22987",
   "metadata": {
    "tags": []
   },
   "outputs": [],
   "source": [
    "ix = (d.t <24) & (d.temp < 85) & (d.weight < 10)\n",
    "ii = ix.values\n",
    "# temp = d.temp\n",
    "tt   = d.t.iloc[ii]\n",
    "y    = d.weight[ii]\n",
    "tmp  = d.temp[ii]\n",
    "fig = ex.line(x=tt, y=tmp)\n",
    "fig.show()\n",
    "fig = ex.line(x=tt, y=-1*y)\n",
    "fig.show()\n",
    "fig = ex.scatter(x=tmp, y=y)\n",
    "fig.show()"
   ]
  },
  {
   "cell_type": "code",
   "execution_count": null,
   "id": "1b892c3a-afdf-4140-9cec-c34ed7e03339",
   "metadata": {},
   "outputs": [],
   "source": []
  }
 ],
 "metadata": {
  "kernelspec": {
   "display_name": "Python 3 (ipykernel)",
   "language": "python",
   "name": "python3"
  },
  "language_info": {
   "codemirror_mode": {
    "name": "ipython",
    "version": 3
   },
   "file_extension": ".py",
   "mimetype": "text/x-python",
   "name": "python",
   "nbconvert_exporter": "python",
   "pygments_lexer": "ipython3",
   "version": "3.10.6"
  }
 },
 "nbformat": 4,
 "nbformat_minor": 5
}
